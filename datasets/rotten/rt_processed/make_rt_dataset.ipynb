{
 "cells": [
  {
   "cell_type": "code",
   "execution_count": 13,
   "metadata": {},
   "outputs": [],
   "source": [
    "import pandas as pd\n",
    "from cleantext import clean\n",
    "from sklearn.model_selection import train_test_split\n",
    "import datasets"
   ]
  },
  {
   "cell_type": "code",
   "execution_count": 9,
   "metadata": {},
   "outputs": [],
   "source": [
    "model_name = 't5_sep'\n",
    "sep = '</s>'\n",
    "\n",
    "if model_name in ['t5_sep', 't5']:\n",
    "    summarize = 'summarize: '\n",
    "else:\n",
    "    summarize = ''"
   ]
  },
  {
   "cell_type": "code",
   "execution_count": 2,
   "metadata": {},
   "outputs": [],
   "source": [
    "def clean_phrase(phrase):\n",
    "    return clean(phrase,\n",
    "                 lower            = False,\n",
    "                 no_line_breaks   = True,\n",
    "                 no_emoji         = True,\n",
    "                 no_urls          = True,\n",
    "                 no_phone_numbers = False,\n",
    "                 lang             = 'en')"
   ]
  },
  {
   "cell_type": "code",
   "execution_count": 10,
   "metadata": {},
   "outputs": [
    {
     "data": {
      "text/html": [
       "<div>\n",
       "<style scoped>\n",
       "    .dataframe tbody tr th:only-of-type {\n",
       "        vertical-align: middle;\n",
       "    }\n",
       "\n",
       "    .dataframe tbody tr th {\n",
       "        vertical-align: top;\n",
       "    }\n",
       "\n",
       "    .dataframe thead th {\n",
       "        text-align: right;\n",
       "    }\n",
       "</style>\n",
       "<table border=\"1\" class=\"dataframe\">\n",
       "  <thead>\n",
       "    <tr style=\"text-align: right;\">\n",
       "      <th></th>\n",
       "      <th>input</th>\n",
       "      <th>summary</th>\n",
       "    </tr>\n",
       "  </thead>\n",
       "  <tbody>\n",
       "    <tr>\n",
       "      <th>0</th>\n",
       "      <td>summarize: A riveting reconstruction of the st...</td>\n",
       "      <td>A powerful, documentary-like examination of th...</td>\n",
       "    </tr>\n",
       "    <tr>\n",
       "      <th>1</th>\n",
       "      <td>summarize: To borrow a putdown from a past vic...</td>\n",
       "      <td>Poor plot development and slow pacing keep 54 ...</td>\n",
       "    </tr>\n",
       "    <tr>\n",
       "      <th>2</th>\n",
       "      <td>summarize: Hugely entertaining, remake that's ...</td>\n",
       "      <td>While it hews closely to the 1984 original, Cr...</td>\n",
       "    </tr>\n",
       "    <tr>\n",
       "      <th>3</th>\n",
       "      <td>summarize: This frank, funny, tender film both...</td>\n",
       "      <td>Tender, funny, and touching, The Sessions prov...</td>\n",
       "    </tr>\n",
       "    <tr>\n",
       "      <th>4</th>\n",
       "      <td>summarize: Chronically impassive and faultless...</td>\n",
       "      <td>Patrice Chéreau's exquisite rendering of Josep...</td>\n",
       "    </tr>\n",
       "  </tbody>\n",
       "</table>\n",
       "</div>"
      ],
      "text/plain": [
       "                                               input  \\\n",
       "0  summarize: A riveting reconstruction of the st...   \n",
       "1  summarize: To borrow a putdown from a past vic...   \n",
       "2  summarize: Hugely entertaining, remake that's ...   \n",
       "3  summarize: This frank, funny, tender film both...   \n",
       "4  summarize: Chronically impassive and faultless...   \n",
       "\n",
       "                                             summary  \n",
       "0  A powerful, documentary-like examination of th...  \n",
       "1  Poor plot development and slow pacing keep 54 ...  \n",
       "2  While it hews closely to the 1984 original, Cr...  \n",
       "3  Tender, funny, and touching, The Sessions prov...  \n",
       "4  Patrice Chéreau's exquisite rendering of Josep...  "
      ]
     },
     "execution_count": 10,
     "metadata": {},
     "output_type": "execute_result"
    }
   ],
   "source": [
    "rt = pd.read_json(\"./../rottentomatoes.json\")\n",
    "\n",
    "critics_list = rt._critics.tolist()\n",
    "critics_cons = rt._critic_consensus.tolist()\n",
    "\n",
    "critics_concatened = []\n",
    "critics_summarize = []\n",
    "for i, critics in enumerate(critics_list):\n",
    "    tmp_string = ''\n",
    "    for critic in critics.values():\n",
    "        tmp_string = tmp_string + clean_phrase(critic) + sep\n",
    "    critics_concatened.append(summarize + tmp_string[:-len(sep)])\n",
    "    critics_summarize.append(critics_cons[i])\n",
    "    \n",
    "rt['input'] = critics_concatened\n",
    "rt['summary'] = critics_summarize\n",
    "\n",
    "new_rt = rt.drop(columns=['_movie_name', '_critics', '_critic_consensus', '_movie_id'])\n",
    "\n",
    "new_rt.head()"
   ]
  },
  {
   "cell_type": "code",
   "execution_count": 14,
   "metadata": {},
   "outputs": [
    {
     "data": {
      "application/vnd.jupyter.widget-view+json": {
       "model_id": "db27837727bb464682448d1cacba937a",
       "version_major": 2,
       "version_minor": 0
      },
      "text/plain": [
       "Saving the dataset (0/1 shards):   0%|          | 0/2984 [00:00<?, ? examples/s]"
      ]
     },
     "metadata": {},
     "output_type": "display_data"
    },
    {
     "data": {
      "application/vnd.jupyter.widget-view+json": {
       "model_id": "d726e552ac4d48508fd240e4f342e717",
       "version_major": 2,
       "version_minor": 0
      },
      "text/plain": [
       "Saving the dataset (0/1 shards):   0%|          | 0/747 [00:00<?, ? examples/s]"
      ]
     },
     "metadata": {},
     "output_type": "display_data"
    }
   ],
   "source": [
    "train, test = train_test_split(new_rt, test_size=0.2, random_state=72)\n",
    "dataset = \\\n",
    "datasets.DatasetDict({\n",
    "    'train'     : datasets.Dataset.from_pandas(train, preserve_index=False),\n",
    "    'test'      : datasets.Dataset.from_pandas(test, preserve_index=False)\n",
    "    })\n",
    "dataset.save_to_disk(f'./{model_name}_rt')"
   ]
  }
 ],
 "metadata": {
  "kernelspec": {
   "display_name": "Python 3",
   "language": "python",
   "name": "python3"
  },
  "language_info": {
   "codemirror_mode": {
    "name": "ipython",
    "version": 3
   },
   "file_extension": ".py",
   "mimetype": "text/x-python",
   "name": "python",
   "nbconvert_exporter": "python",
   "pygments_lexer": "ipython3",
   "version": "3.10.11"
  }
 },
 "nbformat": 4,
 "nbformat_minor": 2
}
